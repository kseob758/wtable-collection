{
  "cells": [
    {
      "cell_type": "markdown",
      "metadata": {
        "id": "SCC0wiBbah5q"
      },
      "source": [
        "## 요리/레시피 데이터 수집\n",
        "- 수집할 데이터 : 요리이름, 카테고리, 난이도, 소요시간, 재료, 요리방법, 요리설명, 링크, 이미지링크\n",
        "- 수집 대상 사이트 : 우리의 식탁(https://wtable.co.kr/recipes)\n",
        "- 수집 방법 : 웹 크롤링(스크래핑)\n",
        "    - BeautifulSoup\n",
        "    - requests"
      ]
    },
    {
      "cell_type": "markdown",
      "metadata": {
        "id": "KIFEjXcCah5r"
      },
      "source": [
        "### 라이브러리 import"
      ]
    },
    {
      "cell_type": "code",
      "execution_count": null,
      "metadata": {
        "id": "kc7JFumi_sTf"
      },
      "outputs": [],
      "source": [
        "# 데이터 분석\n",
        "import numpy as np\n",
        "import pandas as pd\n",
        "\n",
        "# 웹 스크래핑\n",
        "import requests\n",
        "from bs4 import BeautifulSoup as bs\n",
        "\n",
        "# HTTP 클라이언트\n",
        "import urllib3\n",
        "urllib3.disable_warnings()\n",
        "\n",
        "# 진행시간 표시\n",
        "import time\n",
        "from tqdm.notebook import tqdm\n",
        "tqdm.pandas()"
      ]
    },
    {
      "cell_type": "markdown",
      "metadata": {
        "id": "8mo2vbiNah5t"
      },
      "source": [
        "### 웹 스크래핑 진행하기"
      ]
    },
    {
      "cell_type": "code",
      "execution_count": null,
      "metadata": {
        "id": "_gZKFErUmwjI"
      },
      "outputs": [],
      "source": [
        "def get_link(token):\n",
        "    \"음식 상세정보 링크 반환\"\n",
        "    link = f'https://wtable.co.kr/recipes/{token}?location=recipe_home'\n",
        "    return link"
      ]
    },
    {
      "cell_type": "code",
      "execution_count": null,
      "metadata": {
        "id": "IP98LGqY7nQ9"
      },
      "outputs": [],
      "source": [
        "# 카테고리 코드\n",
        "category = {'메인요리': 1,\n",
        "            '초대요리': 2,\n",
        "            '간식': 5,\n",
        "            '간단요리': 126,\n",
        "            '밑반찬': 183,\n",
        "            '채식': 184,\n",
        "            '한식': 185,\n",
        "            '양식': 186,\n",
        "            '일식': 187,\n",
        "            '중식': 188,\n",
        "            '퓨전': 189,\n",
        "            '분식': 190,\n",
        "            '안주': 191,\n",
        "            '베이킹': 192,\n",
        "            '다이어트': 193,\n",
        "            '도시락': 214,\n",
        "            '키토': 242,\n",
        "            '오븐 요리': 273\n",
        "            }"
      ]
    },
    {
      "cell_type": "code",
      "execution_count": null,
      "metadata": {
        "id": "KuIh_5uRTBhb"
      },
      "outputs": [],
      "source": [
        "def get_one_page(cuisine, start):\n",
        "    \"cuisine의 start번째부터 40개 수집\"\n",
        "    url_base = f'https://wtable.net/api_v2/theme/recipe/list?&platform=web&'\n",
        "    url_base2 = f'theme_id={category[cuisine]}&offset={start}&limit=40'\n",
        "    url = url_base + url_base2\n",
        "\n",
        "    response = requests.get(url, verify=False)\n",
        "    data = response.json()['data']\n",
        "\n",
        "    level_list = list(map(lambda x: x['level'], data))\n",
        "    time_list = list(map(lambda x: x['time'], data))\n",
        "    title_list = list(map(lambda x: x['title'], data))\n",
        "    link_list = [get_link(i['token']) for i in data]\n",
        "    img_list = list(map(lambda x: x['profile_img'], data))\n",
        "\n",
        "\n",
        "    df = pd.DataFrame({'요리':title_list,                 \n",
        "                       '종류':cuisine,\n",
        "                       '난이도':level_list,\n",
        "                       '소요시간':time_list,\n",
        "                       '링크':link_list,\n",
        "                       '사진':img_list})\n",
        "\n",
        "    return df"
      ]
    },
    {
      "cell_type": "code",
      "execution_count": null,
      "metadata": {
        "id": "yPLZ1U6nMEPZ"
      },
      "outputs": [],
      "source": [
        "def get_all_pages(cuisine):\n",
        "    \"모든 페이지 수집\"\n",
        "    start = 0\n",
        "    page_list = []\n",
        "    while True:\n",
        "        df_one_page = get_one_page(cuisine, start)\n",
        "        if df_one_page.empty:\n",
        "            break\n",
        "        else:\n",
        "            page_list.append(df_one_page)\n",
        "            time.sleep(0.01)\n",
        "            start += 40\n",
        "\n",
        "    df_all_page = pd.concat(page_list, ignore_index=True)\n",
        "    \n",
        "    return df_all_page"
      ]
    },
    {
      "cell_type": "code",
      "execution_count": null,
      "metadata": {
        "id": "gI4LTf7nCDm-"
      },
      "outputs": [],
      "source": [
        "# 모든 카테고리를 대상으로 get_all_pages 적용하기\n",
        "cuisines = []\n",
        "for i in category:\n",
        "    cuisines.append(get_all_pages(i))\n",
        "result = pd.concat(cuisines, ignore_index=True)"
      ]
    },
    {
      "cell_type": "code",
      "execution_count": null,
      "metadata": {
        "id": "_D9OIirpAJ3f"
      },
      "outputs": [],
      "source": [
        "def get_details(url):\n",
        "    \"링크에서 재료와 요리방법, 설명 수집 함수\"\n",
        "    try: \n",
        "        response = requests.get(url, verify=False)\n",
        "        soup = bs(response.text)    \n",
        "        tmp = soup.find_all('div', {'class':'Text__Description02-sc-1qy6bx2-0 fCbbYE'})\n",
        "        ingredients = [i.find_all('div')[0].text for i in tmp]\n",
        "        tmp2 = soup.find_all('p', {'class':'Text__Pre01-sc-1qy6bx2-2 enJPxd'})\n",
        "        cook = [i.text for i in tmp2]\n",
        "        description = soup.find('p', {'class':'RecipeDetailstyle__Description-q7sykd-14 IdQIJ'}).text\n",
        "        return ingredients, cook, description\n",
        "    \n",
        "    except:\n",
        "        return None, None, None"
      ]
    },
    {
      "cell_type": "code",
      "execution_count": null,
      "metadata": {
        "id": "IUYecPosIdVs",
        "outputId": "490d9bb2-2590-4ed1-b2c1-31664c50f021",
        "colab": {
          "referenced_widgets": [
            "bc21f241b9f44d4eb4d872dc043f5ecb"
          ]
        }
      },
      "outputs": [
        {
          "data": {
            "application/vnd.jupyter.widget-view+json": {
              "model_id": "bc21f241b9f44d4eb4d872dc043f5ecb",
              "version_major": 2,
              "version_minor": 0
            },
            "text/plain": [
              "  0%|          | 0/4340 [00:00<?, ?it/s]"
            ]
          },
          "metadata": {},
          "output_type": "display_data"
        }
      ],
      "source": [
        "# 링크에서 재료와 요리방법, 설명 가져오기\n",
        "details = result['링크'].progress_map(get_details)"
      ]
    },
    {
      "cell_type": "code",
      "execution_count": null,
      "metadata": {
        "id": "rGrSC5LNah5y"
      },
      "outputs": [],
      "source": [
        "result['재료'] = [i[0] for i in details]\n",
        "result['요리방법'] = [i[1] for i in details]\n",
        "result['설명'] = [i[2] for i in details]"
      ]
    },
    {
      "cell_type": "markdown",
      "metadata": {
        "id": "Me9uLbHRah5y"
      },
      "source": [
        "### 수집한 데이터 확인하기"
      ]
    },
    {
      "cell_type": "code",
      "execution_count": null,
      "metadata": {
        "id": "lbcLtHDzV2Wv",
        "outputId": "1176977d-3d49-481f-9515-641adc1361e8"
      },
      "outputs": [
        {
          "name": "stdout",
          "output_type": "stream",
          "text": [
            "<class 'pandas.core.frame.DataFrame'>\n",
            "RangeIndex: 4340 entries, 0 to 4339\n",
            "Data columns (total 9 columns):\n",
            " #   Column  Non-Null Count  Dtype \n",
            "---  ------  --------------  ----- \n",
            " 0   요리      4340 non-null   object\n",
            " 1   종류      4340 non-null   object\n",
            " 2   난이도     4340 non-null   int64 \n",
            " 3   소요시간    4340 non-null   int64 \n",
            " 4   링크      4340 non-null   object\n",
            " 5   사진      4340 non-null   object\n",
            " 6   재료      4340 non-null   object\n",
            " 7   요리방법    4340 non-null   object\n",
            " 8   설명      4340 non-null   object\n",
            "dtypes: int64(2), object(7)\n",
            "memory usage: 305.3+ KB\n"
          ]
        }
      ],
      "source": [
        "# 수집한 데이터 구성 요약\n",
        "result.info()"
      ]
    },
    {
      "cell_type": "code",
      "execution_count": null,
      "metadata": {
        "id": "gjqpolAazoOC",
        "outputId": "0cef8ad8-6128-4cbf-c6cc-7b07d11d3875"
      },
      "outputs": [
        {
          "data": {
            "text/html": [
              "<div>\n",
              "<style scoped>\n",
              "    .dataframe tbody tr th:only-of-type {\n",
              "        vertical-align: middle;\n",
              "    }\n",
              "\n",
              "    .dataframe tbody tr th {\n",
              "        vertical-align: top;\n",
              "    }\n",
              "\n",
              "    .dataframe thead th {\n",
              "        text-align: right;\n",
              "    }\n",
              "</style>\n",
              "<table border=\"1\" class=\"dataframe\">\n",
              "  <thead>\n",
              "    <tr style=\"text-align: right;\">\n",
              "      <th></th>\n",
              "      <th>요리</th>\n",
              "      <th>종류</th>\n",
              "      <th>설명</th>\n",
              "    </tr>\n",
              "  </thead>\n",
              "  <tbody>\n",
              "    <tr>\n",
              "      <th>0</th>\n",
              "      <td>꼬시래기 물냉면</td>\n",
              "      <td>메인요리</td>\n",
              "      <td>꼬시래기는 해조류의 한 종류인데요. 지방, 탄수화물 함량이 낮고 칼슘과 식이섬유를 ...</td>\n",
              "    </tr>\n",
              "    <tr>\n",
              "      <th>1</th>\n",
              "      <td>닭죽</td>\n",
              "      <td>메인요리</td>\n",
              "      <td>아플 때나 기운이 없을 때 간단히 끓여 먹기 좋은 닭죽! 맛이 좋은 건 물론 속을 ...</td>\n",
              "    </tr>\n",
              "    <tr>\n",
              "      <th>2</th>\n",
              "      <td>생채소 참치비빔밥</td>\n",
              "      <td>메인요리</td>\n",
              "      <td>별다른 반찬이 없을 때 해 먹기 딱 좋은 생채소 참치비빔밥 레시피 소개할게요. 집에...</td>\n",
              "    </tr>\n",
              "    <tr>\n",
              "      <th>3</th>\n",
              "      <td>등갈비강정</td>\n",
              "      <td>메인요리</td>\n",
              "      <td>돼지고기 등갈비는 야들야들한 살코기에 육즙이 가득 스며들어 뜯어 먹는 재미까지 있어...</td>\n",
              "    </tr>\n",
              "    <tr>\n",
              "      <th>4</th>\n",
              "      <td>앤초비 파스타</td>\n",
              "      <td>메인요리</td>\n",
              "      <td>앤초비는 지중해나 유럽 근해에서 나는 멸치류의 작은 물고기를 발효시킨 젓갈입니다. ...</td>\n",
              "    </tr>\n",
              "    <tr>\n",
              "      <th>...</th>\n",
              "      <td>...</td>\n",
              "      <td>...</td>\n",
              "      <td>...</td>\n",
              "    </tr>\n",
              "    <tr>\n",
              "      <th>4335</th>\n",
              "      <td>돼지고기 김치찜</td>\n",
              "      <td>오븐 요리</td>\n",
              "      <td>부드럽게 익은 묵은지에 삼겹살을 함께 먹으면 환상의 궁합이죠! 남녀노소 모두 좋아하...</td>\n",
              "    </tr>\n",
              "    <tr>\n",
              "      <th>4336</th>\n",
              "      <td>닭고기 덮밥</td>\n",
              "      <td>오븐 요리</td>\n",
              "      <td>쫄깃한 닭다리살과 은은하게 매운 꽈리고추가 정말 잘 어울리는 덮밥. 간편하고 근사한...</td>\n",
              "    </tr>\n",
              "    <tr>\n",
              "      <th>4337</th>\n",
              "      <td>감자 버터 오븐구이</td>\n",
              "      <td>오븐 요리</td>\n",
              "      <td>맛있을 수밖에 없는 메뉴! 담백한 감자에 짭조름한 치즈, 베이컨까지 어우러진 감자 ...</td>\n",
              "    </tr>\n",
              "    <tr>\n",
              "      <th>4338</th>\n",
              "      <td>고등어 강정</td>\n",
              "      <td>오븐 요리</td>\n",
              "      <td>고등어를 색다르게 즐기는 요리. 비린 맛이 하나도 없고, 매콤 달콤한 소스와 너무 ...</td>\n",
              "    </tr>\n",
              "    <tr>\n",
              "      <th>4339</th>\n",
              "      <td>대파그라탕</td>\n",
              "      <td>오븐 요리</td>\n",
              "      <td>대파의 무한변신, 대파그라탕! 대파의 은은한 단맛과 향이 매력적인 요리인데요. 특히...</td>\n",
              "    </tr>\n",
              "  </tbody>\n",
              "</table>\n",
              "<p>4340 rows × 3 columns</p>\n",
              "</div>"
            ],
            "text/plain": [
              "              요리     종류                                                 설명\n",
              "0       꼬시래기 물냉면   메인요리  꼬시래기는 해조류의 한 종류인데요. 지방, 탄수화물 함량이 낮고 칼슘과 식이섬유를 ...\n",
              "1             닭죽   메인요리  아플 때나 기운이 없을 때 간단히 끓여 먹기 좋은 닭죽! 맛이 좋은 건 물론 속을 ...\n",
              "2      생채소 참치비빔밥   메인요리  별다른 반찬이 없을 때 해 먹기 딱 좋은 생채소 참치비빔밥 레시피 소개할게요. 집에...\n",
              "3          등갈비강정   메인요리  돼지고기 등갈비는 야들야들한 살코기에 육즙이 가득 스며들어 뜯어 먹는 재미까지 있어...\n",
              "4        앤초비 파스타   메인요리  앤초비는 지중해나 유럽 근해에서 나는 멸치류의 작은 물고기를 발효시킨 젓갈입니다. ...\n",
              "...          ...    ...                                                ...\n",
              "4335    돼지고기 김치찜  오븐 요리  부드럽게 익은 묵은지에 삼겹살을 함께 먹으면 환상의 궁합이죠! 남녀노소 모두 좋아하...\n",
              "4336      닭고기 덮밥  오븐 요리  쫄깃한 닭다리살과 은은하게 매운 꽈리고추가 정말 잘 어울리는 덮밥. 간편하고 근사한...\n",
              "4337  감자 버터 오븐구이  오븐 요리  맛있을 수밖에 없는 메뉴! 담백한 감자에 짭조름한 치즈, 베이컨까지 어우러진 감자 ...\n",
              "4338      고등어 강정  오븐 요리  고등어를 색다르게 즐기는 요리. 비린 맛이 하나도 없고, 매콤 달콤한 소스와 너무 ...\n",
              "4339       대파그라탕  오븐 요리  대파의 무한변신, 대파그라탕! 대파의 은은한 단맛과 향이 매력적인 요리인데요. 특히...\n",
              "\n",
              "[4340 rows x 3 columns]"
            ]
          },
          "execution_count": 11,
          "metadata": {},
          "output_type": "execute_result"
        }
      ],
      "source": [
        "# 요리, 종류, 설명만 가져와서 보기\n",
        "result[['요리', '종류', '설명']]"
      ]
    },
    {
      "cell_type": "code",
      "execution_count": null,
      "metadata": {
        "id": "AyKpyALDah5z",
        "outputId": "6ad8eace-4f2a-4e49-bd55-9d949dd0668e"
      },
      "outputs": [
        {
          "data": {
            "text/html": [
              "<div>\n",
              "<style scoped>\n",
              "    .dataframe tbody tr th:only-of-type {\n",
              "        vertical-align: middle;\n",
              "    }\n",
              "\n",
              "    .dataframe tbody tr th {\n",
              "        vertical-align: top;\n",
              "    }\n",
              "\n",
              "    .dataframe thead th {\n",
              "        text-align: right;\n",
              "    }\n",
              "</style>\n",
              "<table border=\"1\" class=\"dataframe\">\n",
              "  <thead>\n",
              "    <tr style=\"text-align: right;\">\n",
              "      <th></th>\n",
              "      <th>요리</th>\n",
              "      <th>종류</th>\n",
              "      <th>난이도</th>\n",
              "      <th>소요시간</th>\n",
              "      <th>링크</th>\n",
              "      <th>사진</th>\n",
              "      <th>재료</th>\n",
              "      <th>요리방법</th>\n",
              "      <th>설명</th>\n",
              "    </tr>\n",
              "  </thead>\n",
              "  <tbody>\n",
              "    <tr>\n",
              "      <th>0</th>\n",
              "      <td>꼬시래기 물냉면</td>\n",
              "      <td>메인요리</td>\n",
              "      <td>1</td>\n",
              "      <td>20</td>\n",
              "      <td>https://wtable.co.kr/recipes/GdRMuEBF9nXVJAtqw...</td>\n",
              "      <td>https://static.wtable.co.kr/image/production/s...</td>\n",
              "      <td>[꼬시래기, 시판용 냉면육수, 오이, 삶은 달걀, 쌈무, 통깨, 소금, 식초, 고추...</td>\n",
              "      <td>[끓는 물에 소금, 식초, 꼬시래기를 넣어 30초 정도 데쳐주세요.\\r\\n(tip....</td>\n",
              "      <td>꼬시래기는 해조류의 한 종류인데요. 지방, 탄수화물 함량이 낮고 칼슘과 식이섬유를 ...</td>\n",
              "    </tr>\n",
              "  </tbody>\n",
              "</table>\n",
              "</div>"
            ],
            "text/plain": [
              "         요리    종류  난이도  소요시간  \\\n",
              "0  꼬시래기 물냉면  메인요리    1    20   \n",
              "\n",
              "                                                  링크  \\\n",
              "0  https://wtable.co.kr/recipes/GdRMuEBF9nXVJAtqw...   \n",
              "\n",
              "                                                  사진  \\\n",
              "0  https://static.wtable.co.kr/image/production/s...   \n",
              "\n",
              "                                                  재료  \\\n",
              "0  [꼬시래기, 시판용 냉면육수, 오이, 삶은 달걀, 쌈무, 통깨, 소금, 식초, 고추...   \n",
              "\n",
              "                                                요리방법  \\\n",
              "0  [끓는 물에 소금, 식초, 꼬시래기를 넣어 30초 정도 데쳐주세요.\\r\\n(tip....   \n",
              "\n",
              "                                                  설명  \n",
              "0  꼬시래기는 해조류의 한 종류인데요. 지방, 탄수화물 함량이 낮고 칼슘과 식이섬유를 ...  "
            ]
          },
          "execution_count": 13,
          "metadata": {},
          "output_type": "execute_result"
        }
      ],
      "source": [
        "# 데이터 미리보기\n",
        "result.head(1)"
      ]
    },
    {
      "cell_type": "markdown",
      "metadata": {
        "id": "Ewkc_nUbah50"
      },
      "source": [
        "### 수집한 데이터 저장하기"
      ]
    },
    {
      "cell_type": "code",
      "execution_count": null,
      "metadata": {
        "id": "W1jNKTsuah50"
      },
      "outputs": [],
      "source": [
        "result.to_csv('data/raw_recipes.csv', index=False)"
      ]
    },
    {
      "cell_type": "code",
      "execution_count": null,
      "metadata": {
        "id": "FtZ_rp-Xah50",
        "outputId": "553726ee-6913-4d7d-ae2c-6950598939be"
      },
      "outputs": [
        {
          "data": {
            "text/html": [
              "<div>\n",
              "<style scoped>\n",
              "    .dataframe tbody tr th:only-of-type {\n",
              "        vertical-align: middle;\n",
              "    }\n",
              "\n",
              "    .dataframe tbody tr th {\n",
              "        vertical-align: top;\n",
              "    }\n",
              "\n",
              "    .dataframe thead th {\n",
              "        text-align: right;\n",
              "    }\n",
              "</style>\n",
              "<table border=\"1\" class=\"dataframe\">\n",
              "  <thead>\n",
              "    <tr style=\"text-align: right;\">\n",
              "      <th></th>\n",
              "      <th>요리</th>\n",
              "      <th>종류</th>\n",
              "      <th>난이도</th>\n",
              "      <th>소요시간</th>\n",
              "      <th>링크</th>\n",
              "      <th>사진</th>\n",
              "      <th>재료</th>\n",
              "      <th>요리방법</th>\n",
              "      <th>설명</th>\n",
              "    </tr>\n",
              "  </thead>\n",
              "  <tbody>\n",
              "    <tr>\n",
              "      <th>0</th>\n",
              "      <td>꼬시래기 물냉면</td>\n",
              "      <td>메인요리</td>\n",
              "      <td>1</td>\n",
              "      <td>20</td>\n",
              "      <td>https://wtable.co.kr/recipes/GdRMuEBF9nXVJAtqw...</td>\n",
              "      <td>https://static.wtable.co.kr/image/production/s...</td>\n",
              "      <td>['꼬시래기', '시판용 냉면육수', '오이', '삶은 달걀', '쌈무', '통깨'...</td>\n",
              "      <td>['끓는 물에 소금, 식초, 꼬시래기를 넣어 30초 정도 데쳐주세요.\\r\\n(tip...</td>\n",
              "      <td>꼬시래기는 해조류의 한 종류인데요. 지방, 탄수화물 함량이 낮고 칼슘과 식이섬유를 ...</td>\n",
              "    </tr>\n",
              "    <tr>\n",
              "      <th>1</th>\n",
              "      <td>닭죽</td>\n",
              "      <td>메인요리</td>\n",
              "      <td>1</td>\n",
              "      <td>30</td>\n",
              "      <td>https://wtable.co.kr/recipes/QawUyVgt3e5wvCT9d...</td>\n",
              "      <td>https://static.wtable.co.kr/image/production/s...</td>\n",
              "      <td>['찹쌀밥', '닭가슴살', '다진 당근', '통마늘', '물', '소금', '참기...</td>\n",
              "      <td>['냄비에 물과 닭가슴살, 마늘, 대파를 넣고 15분간 삶아주세요. ', '삶은 닭...</td>\n",
              "      <td>아플 때나 기운이 없을 때 간단히 끓여 먹기 좋은 닭죽! 맛이 좋은 건 물론 속을 ...</td>\n",
              "    </tr>\n",
              "    <tr>\n",
              "      <th>2</th>\n",
              "      <td>생채소 참치비빔밥</td>\n",
              "      <td>메인요리</td>\n",
              "      <td>1</td>\n",
              "      <td>20</td>\n",
              "      <td>https://wtable.co.kr/recipes/VxEeT7YiZ5QQETGmj...</td>\n",
              "      <td>https://static.wtable.co.kr/image/production/s...</td>\n",
              "      <td>['밥', '참치캔(85g)', '상추', '당근', '깻잎', '양파', '새싹 ...</td>\n",
              "      <td>['참치는 꽉 짜서 기름을 빼주세요. ', '채소는 가볍게 씻어 채반에서 물기를 빼...</td>\n",
              "      <td>별다른 반찬이 없을 때 해 먹기 딱 좋은 생채소 참치비빔밥 레시피 소개할게요. 집에...</td>\n",
              "    </tr>\n",
              "    <tr>\n",
              "      <th>3</th>\n",
              "      <td>등갈비강정</td>\n",
              "      <td>메인요리</td>\n",
              "      <td>2</td>\n",
              "      <td>40</td>\n",
              "      <td>https://wtable.co.kr/recipes/1nyadXLMLxWsNiL3y...</td>\n",
              "      <td>https://static.wtable.co.kr/image/production/s...</td>\n",
              "      <td>['돼지 등갈비', '파채', '물', '청주', '통후추', '생강', '땅콩가루...</td>\n",
              "      <td>['등갈비는 찬물에 30분 정도 담가 핏물을 뺀 후 흐르는 물에 깨끗하게 씻어주세요...</td>\n",
              "      <td>돼지고기 등갈비는 야들야들한 살코기에 육즙이 가득 스며들어 뜯어 먹는 재미까지 있어...</td>\n",
              "    </tr>\n",
              "    <tr>\n",
              "      <th>4</th>\n",
              "      <td>앤초비 파스타</td>\n",
              "      <td>메인요리</td>\n",
              "      <td>1</td>\n",
              "      <td>20</td>\n",
              "      <td>https://wtable.co.kr/recipes/PJwQfoHitXrpY8n3B...</td>\n",
              "      <td>https://static.wtable.co.kr/image/production/s...</td>\n",
              "      <td>['파스타 면', '앤초비', '케이퍼', '마늘', '루꼴라', '면수', '올리...</td>\n",
              "      <td>['앤초비와 케이퍼는 작게 다지고 마늘은 편으로 썰어주세요.', '냄비에 물과 소금...</td>\n",
              "      <td>앤초비는 지중해나 유럽 근해에서 나는 멸치류의 작은 물고기를 발효시킨 젓갈입니다. ...</td>\n",
              "    </tr>\n",
              "  </tbody>\n",
              "</table>\n",
              "</div>"
            ],
            "text/plain": [
              "          요리    종류  난이도  소요시간  \\\n",
              "0   꼬시래기 물냉면  메인요리    1    20   \n",
              "1         닭죽  메인요리    1    30   \n",
              "2  생채소 참치비빔밥  메인요리    1    20   \n",
              "3      등갈비강정  메인요리    2    40   \n",
              "4    앤초비 파스타  메인요리    1    20   \n",
              "\n",
              "                                                  링크  \\\n",
              "0  https://wtable.co.kr/recipes/GdRMuEBF9nXVJAtqw...   \n",
              "1  https://wtable.co.kr/recipes/QawUyVgt3e5wvCT9d...   \n",
              "2  https://wtable.co.kr/recipes/VxEeT7YiZ5QQETGmj...   \n",
              "3  https://wtable.co.kr/recipes/1nyadXLMLxWsNiL3y...   \n",
              "4  https://wtable.co.kr/recipes/PJwQfoHitXrpY8n3B...   \n",
              "\n",
              "                                                  사진  \\\n",
              "0  https://static.wtable.co.kr/image/production/s...   \n",
              "1  https://static.wtable.co.kr/image/production/s...   \n",
              "2  https://static.wtable.co.kr/image/production/s...   \n",
              "3  https://static.wtable.co.kr/image/production/s...   \n",
              "4  https://static.wtable.co.kr/image/production/s...   \n",
              "\n",
              "                                                  재료  \\\n",
              "0  ['꼬시래기', '시판용 냉면육수', '오이', '삶은 달걀', '쌈무', '통깨'...   \n",
              "1  ['찹쌀밥', '닭가슴살', '다진 당근', '통마늘', '물', '소금', '참기...   \n",
              "2  ['밥', '참치캔(85g)', '상추', '당근', '깻잎', '양파', '새싹 ...   \n",
              "3  ['돼지 등갈비', '파채', '물', '청주', '통후추', '생강', '땅콩가루...   \n",
              "4  ['파스타 면', '앤초비', '케이퍼', '마늘', '루꼴라', '면수', '올리...   \n",
              "\n",
              "                                                요리방법  \\\n",
              "0  ['끓는 물에 소금, 식초, 꼬시래기를 넣어 30초 정도 데쳐주세요.\\r\\n(tip...   \n",
              "1  ['냄비에 물과 닭가슴살, 마늘, 대파를 넣고 15분간 삶아주세요. ', '삶은 닭...   \n",
              "2  ['참치는 꽉 짜서 기름을 빼주세요. ', '채소는 가볍게 씻어 채반에서 물기를 빼...   \n",
              "3  ['등갈비는 찬물에 30분 정도 담가 핏물을 뺀 후 흐르는 물에 깨끗하게 씻어주세요...   \n",
              "4  ['앤초비와 케이퍼는 작게 다지고 마늘은 편으로 썰어주세요.', '냄비에 물과 소금...   \n",
              "\n",
              "                                                  설명  \n",
              "0  꼬시래기는 해조류의 한 종류인데요. 지방, 탄수화물 함량이 낮고 칼슘과 식이섬유를 ...  \n",
              "1  아플 때나 기운이 없을 때 간단히 끓여 먹기 좋은 닭죽! 맛이 좋은 건 물론 속을 ...  \n",
              "2  별다른 반찬이 없을 때 해 먹기 딱 좋은 생채소 참치비빔밥 레시피 소개할게요. 집에...  \n",
              "3  돼지고기 등갈비는 야들야들한 살코기에 육즙이 가득 스며들어 뜯어 먹는 재미까지 있어...  \n",
              "4  앤초비는 지중해나 유럽 근해에서 나는 멸치류의 작은 물고기를 발효시킨 젓갈입니다. ...  "
            ]
          },
          "execution_count": 15,
          "metadata": {},
          "output_type": "execute_result"
        }
      ],
      "source": [
        "raw_recipes = pd.read_csv('data/raw_recipes.csv')\n",
        "raw_recipes.head()"
      ]
    }
  ],
  "metadata": {
    "colab": {
      "provenance": []
    },
    "kernelspec": {
      "display_name": "Python 3.8 (NGC 22.09 / TensorFlow 2.9.1) on Backend.AI",
      "language": "python",
      "name": "python3"
    },
    "language_info": {
      "codemirror_mode": {
        "name": "ipython",
        "version": 3
      },
      "file_extension": ".py",
      "mimetype": "text/x-python",
      "name": "python",
      "nbconvert_exporter": "python",
      "pygments_lexer": "ipython3",
      "version": "3.10.9"
    }
  },
  "nbformat": 4,
  "nbformat_minor": 0
}